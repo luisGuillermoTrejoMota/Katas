{
 "cells": [
  {
   "cell_type": "code",
   "execution_count": 13,
   "metadata": {},
   "outputs": [
    {
     "name": "stdout",
     "output_type": "stream",
     "text": [
      "Marte tiene 2 cantidad de lunas\n",
      "Marte teien una cricunferencia polar de 6752 km\n",
      "El numero total de lunas es 214\n",
      "El numero promedio de lunas por planeta es 17.833333333333332\n"
     ]
    }
   ],
   "source": [
    "# Crea un diccionario llamado planet con los datos propuestos\n",
    "\n",
    "planeta ={\n",
    "    \"Nombre\" : \"Marte\",\n",
    "    \"lunas\" : \"2\"\n",
    "}\n",
    "# Muestra el nombre del planeta y el número de lunas que tiene.\n",
    "\n",
    "print(planeta[\"Nombre\"] + \" tiene \" + planeta[\"lunas\"] + \" cantidad de lunas\")\n",
    "\n",
    "# Agrega la clave circunferencia con los datos proporcionados previamente\n",
    "\n",
    "planeta\n",
    "\n",
    "planeta[\"Polar\"] = \"6752\"\n",
    "planeta[\"Ecuatorial\"] = \"6792\"\n",
    "\n",
    "# Imprime el nombre del planeta con su circunferencia polar.\n",
    "\n",
    "print(planeta[\"Nombre\"] + \" teien una cricunferencia polar de \" + planeta[\"Polar\"] + \" km\")\n",
    "\n",
    "# Lunas de cada planeta\n",
    "\n",
    "planet_moons = {\n",
    "    'mercury': 0,\n",
    "    'venus': 0,\n",
    "    'earth': 1,\n",
    "    'mars': 2,\n",
    "    'jupiter': 79,\n",
    "    'saturn': 82,\n",
    "    'uranus': 27,\n",
    "    'neptune': 14,\n",
    "    'pluto': 5,\n",
    "    'haumea': 2,\n",
    "    'makemake': 1,\n",
    "    'eris': 1\n",
    "}\n",
    "\n",
    "# Añade el código para determinar el número de lunas.\n",
    "\n",
    "moons = planet_moons.values()\n",
    "planets = len(planet_moons.keys())\n",
    "\n",
    "total_moons = 0\n",
    "for moon in moons:\n",
    "    total_moons = total_moons + moon\n",
    "\n",
    "total_moons = str(total_moons)\n",
    "print(\"El numero total de lunas en los planetas agregados es \" + total_moons)\n",
    "\n",
    "total_moons = int(total_moons)\n",
    "average = total_moons / planets\n",
    "average = str(average)\n",
    "print(\"El numero promedio de lunas por planeta es \" + average)\n"
   ]
  }
 ],
 "metadata": {
  "interpreter": {
   "hash": "c26de58f5a3405c2f7d3d9e8c3079ebdbaa889ecc958d680ad6fe2accdb1242e"
  },
  "kernelspec": {
   "display_name": "Python 3.10.2 64-bit (windows store)",
   "language": "python",
   "name": "python3"
  },
  "language_info": {
   "codemirror_mode": {
    "name": "ipython",
    "version": 3
   },
   "file_extension": ".py",
   "mimetype": "text/x-python",
   "name": "python",
   "nbconvert_exporter": "python",
   "pygments_lexer": "ipython3",
   "version": "3.10.2"
  },
  "orig_nbformat": 4
 },
 "nbformat": 4,
 "nbformat_minor": 2
}
