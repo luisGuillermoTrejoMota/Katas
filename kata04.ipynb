{
 "cells": [
  {
   "cell_type": "code",
   "execution_count": 17,
   "metadata": {},
   "outputs": [
    {
     "data": {
      "text/plain": [
       "['Interesting facts about the Moon',\n",
       " \"The Moon is Earth's only satellite\",\n",
       " 'There are several interesting facts about the Moon and how it affects life here on Earth',\n",
       " 'On average, the Moon moves 4cm away from the Earth every year',\n",
       " 'This yearly drift is not significant enough to cause immediate effects on Earth',\n",
       " 'The highest daylight temperature of the Moon is 127 C.']"
      ]
     },
     "execution_count": 17,
     "metadata": {},
     "output_type": "execute_result"
    }
   ],
   "source": [
    "#Texto a trabajar\n",
    "\n",
    "text = \"\"\"Interesting facts about the Moon. The Moon is Earth's only satellite. There are several interesting facts about the Moon and how it affects life here on Earth. On average, the Moon moves 4cm away from the Earth every year. This yearly drift is not significant enough to cause immediate effects on Earth. The highest daylight temperature of the Moon is 127 C.\"\"\"\n",
    "\n",
    "#Dividir el texto en oraciones\n",
    "\n",
    "text_parts = text.split('. ')\n",
    "text_parts\n"
   ]
  },
  {
   "cell_type": "code",
   "execution_count": 16,
   "metadata": {},
   "outputs": [],
   "source": [
    "#Texto a trabajar\n",
    "\n",
    "text = \"\"\"Interesting facts about the Moon. The Moon is Earth's only satellite. There are several interesting facts about the Moon and how it affects life here on Earth. On average, the Moon moves 4cm away from the Earth every year. This yearly drift is not significant enough to cause immediate effects on Earth. The highest daylight temperature of the Moon is 127 C.\"\"\"\n",
    "\n",
    "#Palabras clave\n",
    "\n",
    "keywords = [\"average\", \"temperature\", \"distance\"]"
   ]
  },
  {
   "cell_type": "code",
   "execution_count": 44,
   "metadata": {},
   "outputs": [
    {
     "name": "stdout",
     "output_type": "stream",
     "text": [
      "On average, the Moon moves 4cm away from the Earth every year\n",
      "The highest daylight temperature of the Moon is 127 C.\n"
     ]
    }
   ],
   "source": [
    "#Texto a trabajar\n",
    "\n",
    "text = \"\"\"Interesting facts about the Moon. The Moon is Earth's only satellite. There are several interesting facts about the Moon and how it affects life here on Earth. On average, the Moon moves 4cm away from the Earth every year. This yearly drift is not significant enough to cause immediate effects on Earth. The highest daylight temperature of the Moon is 127 C.\"\"\"\n",
    "\n",
    "#Mostrar oraciones en donde salgan las palabras clave\n",
    "\n",
    "text_parts = text.split('. ')\n",
    "keywords = [\"average\", \"temperature\", \"distance\"]\n",
    "\n",
    "oraciones = len(text_parts)\n",
    "palabras = len(keywords)\n",
    "valor_k = 0\n",
    "valor_o = 0\n",
    "i = 0\n",
    "p = 0\n",
    "\n",
    "while p < palabras:\n",
    "    \n",
    "    while i < oraciones:\n",
    "        i = i + 1\n",
    "        if keywords[valor_k] in text_parts[valor_o]:\n",
    "            print(text_parts[valor_o])\n",
    "        valor_o = valor_o + 1\n",
    "    else:\n",
    "        i = 0\n",
    "        valor_o = 0\n",
    "        valor_k = valor_k + 1\n",
    "        p = p + 1\n",
    "   "
   ]
  },
  {
   "cell_type": "code",
   "execution_count": 43,
   "metadata": {},
   "outputs": [
    {
     "name": "stdout",
     "output_type": "stream",
     "text": [
      "The highest daylight temperature of the Moon is 127 Celcius.\n"
     ]
    }
   ],
   "source": [
    "text = \"\"\"Interesting facts about the Moon. The Moon is Earth's only satellite. There are several interesting facts about the Moon and how it affects life here on Earth. On average, the Moon moves 4cm away from the Earth every year. This yearly drift is not significant enough to cause immediate effects on Earth. The highest daylight temperature of the Moon is 127 C.\"\"\"\n",
    "\n",
    "#Cambiar C a Celcius\n",
    "\n",
    "text_parts = text.split('. ')\n",
    "keywords = [\" C.\"]\n",
    "oraciones = len(text_parts)\n",
    "palabras = len(keywords)\n",
    "valor_k = 0\n",
    "valor_o = 0\n",
    "i = 0\n",
    "p = 0\n",
    "cToCent = [5]\n",
    "while p < palabras:\n",
    "    \n",
    "    while i < oraciones:\n",
    "        i = i + 1\n",
    "        if keywords[valor_k] in text_parts[valor_o]:\n",
    "            cToCent = text_parts[valor_o].split(\" \")\n",
    "        valor_o = valor_o + 1\n",
    "          \n",
    "        \n",
    "    else:\n",
    "        i = 0\n",
    "        valor_o = 0\n",
    "        valor_k = valor_k + 1\n",
    "        p = p + 1\n",
    "\n",
    "if \"C.\" in cToCent:\n",
    "    for x in range(len(cToCent)):\n",
    "        if cToCent[x] == \"C.\":\n",
    "            cToCent[x] = \"Celcius.\"\n",
    "\n",
    "print(\" \".join(cToCent))\n"
   ]
  }
 ],
 "metadata": {
  "interpreter": {
   "hash": "f50e0e44f8f8e7f719c8704f56badf34488debc6e507d4dc8524aac940f766b5"
  },
  "kernelspec": {
   "display_name": "Python 3.9.10 64-bit",
   "language": "python",
   "name": "python3"
  },
  "language_info": {
   "codemirror_mode": {
    "name": "ipython",
    "version": 3
   },
   "file_extension": ".py",
   "mimetype": "text/x-python",
   "name": "python",
   "nbconvert_exporter": "python",
   "pygments_lexer": "ipython3",
   "version": "3.9.10"
  },
  "orig_nbformat": 4
 },
 "nbformat": 4,
 "nbformat_minor": 2
}
