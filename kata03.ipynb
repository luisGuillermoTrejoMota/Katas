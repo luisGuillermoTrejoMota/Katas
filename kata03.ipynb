{
 "cells": [
  {
   "cell_type": "code",
   "execution_count": 7,
   "metadata": {},
   "outputs": [
    {
     "name": "stdout",
     "output_type": "stream",
     "text": [
      "Asteroide aproximandoce a alta velocidad!\n"
     ]
    }
   ],
   "source": [
    "# Añadir el código necesario para crear una variable que guarde la velocidad del asteroide.\n",
    "# Escribe una expresión de prueba para calcular si necesita una advertencia.\n",
    "# Agregue las instrucciones que se ejecutarán si la expresión de prueba es true o false.\n",
    "\n",
    "velocidad = 49\n",
    "\n",
    "if(velocidad > 25):\n",
    "    print(\"Asteroide aproximandoce a alta velocidad!\")\n",
    "else:\n",
    "    print(\"No pasa nada, es un día ordinario\")"
   ]
  },
  {
   "cell_type": "code",
   "execution_count": 8,
   "metadata": {},
   "outputs": [
    {
     "name": "stdout",
     "output_type": "stream",
     "text": [
      "No pasa nada, es un día ordinario\n"
     ]
    }
   ],
   "source": [
    "\n",
    "velocidad = input (\"Ingresa la velocidad del asteroide en km/s\")\n",
    "velocidad = int(velocidad)\n",
    "\n",
    "if(velocidad > 25):\n",
    "    print(\"Asteroide aproximandoce a alta velocidad!\")\n",
    "else:\n",
    "    print(\"No pasa nada, es un día ordinario\")"
   ]
  },
  {
   "cell_type": "code",
   "execution_count": 14,
   "metadata": {},
   "outputs": [
    {
     "name": "stdout",
     "output_type": "stream",
     "text": [
      "Mira que hermosa estela de luz\n"
     ]
    }
   ],
   "source": [
    "# Agrega el código para crear una variable para un asteroide que viaja a 19 km/s\n",
    "# Escribe varias expresiones de prueba para determinar si puedes ver el rayo de luz desde la tierra\n",
    "# Agrega las instrucciones que se ejecutarán si las expresiones de prueba son True o False\n",
    "\n",
    "velocidad = 20\n",
    "\n",
    "if velocidad > 20:\n",
    "    print(\"Mira que hermosa estela de luz\")\n",
    "elif velocidad ==  20:\n",
    "    print(\"Mira que hermosa estela de luz\")\n",
    "else:\n",
    "    print(\"No pasa nada, es un día ordinario\")\n"
   ]
  },
  {
   "cell_type": "code",
   "execution_count": null,
   "metadata": {},
   "outputs": [
    {
     "name": "stdout",
     "output_type": "stream",
     "text": [
      "Mira que hermosa estela de luz\n"
     ]
    }
   ],
   "source": [
    "\n",
    "velocidad = input (\"Ingresa la velocidad del asteroide en km/s\")\n",
    "velocidad = int(velocidad)\n",
    "\n",
    "if velocidad > 20:\n",
    "    print(\"Mira que hermosa estela de luz\")\n",
    "elif velocidad ==  20:\n",
    "    print(\"Mira que hermosa estela de luz\")\n",
    "else:\n",
    "    print(\"No pasa nada, es un día ordinario\")\n"
   ]
  },
  {
   "cell_type": "code",
   "execution_count": 50,
   "metadata": {},
   "outputs": [
    {
     "name": "stdout",
     "output_type": "stream",
     "text": [
      "Tenemos problemas, un asteroide muy peligroso viene en camino\n"
     ]
    }
   ],
   "source": [
    "# Agrega el código para crear nuevas variables para la velocidad y el tamaño del asteroide\n",
    "# Para probar el código, prueba con varias velocidades y tamaños\n",
    "# Escribe varias expresiones de prueba o combinaciones de expresiones de prueba para determinar qué mensaje se debe enviar a Tierra.\n",
    "\n",
    "velocidad = 30\n",
    "dimencion = 75\n",
    "\n",
    "if velocidad > 25 and dimencion > 25:\n",
    "    print(\"Tenemos problemas, un asteroide muy peligroso viene en camino\")\n",
    "elif velocidad >= 20:\n",
    "        print(\"Mira que hermosa estela de luz\")\n",
    "else:\n",
    "    print (\"No pasa nada, es un día ordinario\")\n",
    "\n"
   ]
  },
  {
   "cell_type": "code",
   "execution_count": 51,
   "metadata": {},
   "outputs": [
    {
     "name": "stdout",
     "output_type": "stream",
     "text": [
      "Mira que hermosa estela de luz\n"
     ]
    }
   ],
   "source": [
    "velocidad = input (\"A que velocidad en km/s viene el asteroide\")\n",
    "velocidad = int(velocidad)\n",
    "dimencion = input (\"Cual es el tamaño del diametro mayor del asteroide en metros\")\n",
    "dimencion = int(dimencion)\n",
    "\n",
    "if velocidad > 25 and dimencion > 25:\n",
    "    print(\"Tenemos problemas, un asteroide muy peligroso viene en camino\")\n",
    "elif velocidad >= 20:\n",
    "    print(\"Mira que hermosa estela de luz\")\n",
    "else:\n",
    "    print (\"No pasa nada, es un día ordinario\")"
   ]
  }
 ],
 "metadata": {
  "interpreter": {
   "hash": "f50e0e44f8f8e7f719c8704f56badf34488debc6e507d4dc8524aac940f766b5"
  },
  "kernelspec": {
   "display_name": "Python 3.9.10 64-bit",
   "language": "python",
   "name": "python3"
  },
  "language_info": {
   "codemirror_mode": {
    "name": "ipython",
    "version": 3
   },
   "file_extension": ".py",
   "mimetype": "text/x-python",
   "name": "python",
   "nbconvert_exporter": "python",
   "pygments_lexer": "ipython3",
   "version": "3.9.10"
  },
  "orig_nbformat": 4
 },
 "nbformat": 4,
 "nbformat_minor": 2
}
