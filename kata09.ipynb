{
 "cells": [
  {
   "cell_type": "code",
   "execution_count": 13,
   "metadata": {},
   "outputs": [
    {
     "name": "stdout",
     "output_type": "stream",
     "text": [
      "Reporte completo:\n",
      "    Promedio total 54.333333333333336%\n",
      "    Tanque principal: 75%\n",
      "    Tanque secundario: 55%\n",
      "    Tanque de reseva: 33%\n",
      "    \n",
      "58.333333333333336\n",
      "Reporte completo:\n",
      "    Promedio total 87.33333333333333%\n",
      "    Tanque principal: 99%\n",
      "    Tanque secundario: 97%\n",
      "    Tanque de reseva: 66%\n",
      "    \n"
     ]
    }
   ],
   "source": [
    "# Función para leer 3 tanques de combustible y muestre el promedio\n",
    "# def funciona para crear varias variables no asignadas que solo existen dentro de este y junto con un conjunto de instrucciones ques posteriormente pueden se llamadas\n",
    "# Se puede llamar a un def dentro de otro def\n",
    "\n",
    "def reporte(tanque1, tanque2, tanque3):\n",
    "    promedioTotal= (tanque1 + tanque2 + tanque3)/3\n",
    "    #La comilla triple nos permite insertar un string con todas las líneas que deseemos.\n",
    "    #la f al iniicio de la triple comilla nos permite llamar a la variable dentro del return simpre que esta este dentro de {} hace referencia a una función\n",
    "    return f\"\"\"Reporte completo:\n",
    "    Promedio total {promedioTotal}%\n",
    "    Tanque principal: {tanque1}%\n",
    "    Tanque secundario: {tanque2}%\n",
    "    Tanque de reseva: {tanque3}%\n",
    "    \"\"\"\n",
    "\n",
    "    # Llamamos a la función que genera el reporte print(funcion(tanque1, tanque2, tanque3))\n",
    "\n",
    "print(reporte(75, 55, 33))\n",
    "\n",
    "def repprom(valores):\n",
    "    suma = sum(valores)\n",
    "    numeroDeValores = len(valores)\n",
    "    return suma / numeroDeValores\n",
    "\n",
    "print(repprom([55, 75, 45]))\n",
    "\n",
    "def reporte(tanque1, tanque2, tanque3):\n",
    "    promedioTotal= (tanque1 + tanque2 + tanque3)/3\n",
    "    return f\"\"\"Reporte completo:\n",
    "    Promedio total {repprom([tanque1, tanque2, tanque3])}%\n",
    "    Tanque principal: {tanque1}%\n",
    "    Tanque secundario: {tanque2}%\n",
    "    Tanque de reseva: {tanque3}%\n",
    "    \"\"\"\n",
    "\n",
    "print(reporte(99,97,66))\n",
    "\n"
   ]
  },
  {
   "cell_type": "code",
   "execution_count": 1,
   "metadata": {},
   "outputs": [
    {
     "name": "stdout",
     "output_type": "stream",
     "text": [
      "Reporte de lanzamiento\n",
      "    Tiempo estimado al destino: 130.5 horas\n",
      "    Total de combustible: 154 litros\n",
      "    Destino del viaje: Marte\n",
      "        \n",
      "\n",
      "\n",
      "\n",
      "\n",
      "\n",
      "    Destino de la misión: Luna\n",
      "    Tiempo total desde abordaje: 18278 minutos\n",
      "    Combustible total: 184\n",
      "    \n",
      "principal tank --> 99 litros\n",
      "secundario tank --> 85 litros\n"
     ]
    }
   ],
   "source": [
    "# Función con un informe preciso de la misión. Considera hora de prelanzamiento, tiempo de vuelo, destino, tanque externo y tanque interno\n",
    "\n",
    "def reporte(tiempoDeVuelo, tiempoEnTierra, combustibleA, combustibleB, destino):\n",
    "    return f\"\"\"Reporte de lanzamiento\n",
    "    Tiempo estimado al destino: {tiempoDeVuelo + tiempoEnTierra} horas\n",
    "    Total de combustible: {combustibleA + combustibleB} litros\n",
    "    Destino del viaje: {destino}\n",
    "        \"\"\"\n",
    "\n",
    "print(reporte(55.5, 75, 66, 88, \"Marte\"))\n",
    "\n",
    "# Escribe tu nueva función de reporte considerando lo anterior \"La función es problemática porque no se puede adaptar para minutos adicionales o tanques adicionales de combustible. Hazlo más flexible permitiendo cualquier número de pasos basados en el tiempo y cualquier número de tanques.\"\n",
    "# El uso de * es para marcar la existencia de vaios valores dentro de una matriz creada como variable dentro del def\n",
    "#la variable de asterisco se usa para pasar parámetros a las funciones.\n",
    "# El doble asterisco representa cualquier número de parámetros de palabras clave recibidos en esta posición, y se convierte en un diccionario en la posición ** b:\n",
    "\n",
    "def reporte(destino, *tiempo, **combustible):\n",
    "    dictamen = f\"\"\"\n",
    "    Destino de la misión: {destino}\n",
    "    Tiempo total desde abordaje: {sum(tiempo)} minutos\n",
    "    Combustible total: {sum(combustible.values())}\n",
    "    \"\"\"\n",
    "    for nombreTanque, litros in combustible.items():\n",
    "        print(\"\\n\")\n",
    "        dictamen += f\"\\n{nombreTanque} tank --> {litros} litros\"\n",
    "    return dictamen\n",
    "\n",
    "print(reporte(\"Luna\", 9856, 544, 7878, principal = 99, secundario = 85))"
   ]
  }
 ],
 "metadata": {
  "interpreter": {
   "hash": "c26de58f5a3405c2f7d3d9e8c3079ebdbaa889ecc958d680ad6fe2accdb1242e"
  },
  "kernelspec": {
   "display_name": "Python 3.10.2 64-bit (windows store)",
   "language": "python",
   "name": "python3"
  },
  "language_info": {
   "codemirror_mode": {
    "name": "ipython",
    "version": 3
   },
   "file_extension": ".py",
   "mimetype": "text/x-python",
   "name": "python",
   "nbconvert_exporter": "python",
   "pygments_lexer": "ipython3",
   "version": "3.10.2"
  },
  "orig_nbformat": 4
 },
 "nbformat": 4,
 "nbformat_minor": 2
}
