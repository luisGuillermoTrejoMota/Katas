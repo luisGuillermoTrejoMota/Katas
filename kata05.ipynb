{
 "cells": [
  {
   "cell_type": "code",
   "execution_count": 6,
   "metadata": {},
   "outputs": [
    {
     "name": "stdout",
     "output_type": "stream",
     "text": [
      "628949330 km\n",
      "390577533.93 km\n"
     ]
    }
   ],
   "source": [
    "# Crear variables para almacenar las dos distancias\n",
    "# ¡Asegúrate de quitar las comas!\n",
    "\n",
    "tierra = 149597870\n",
    "jupiter = 778547200\n",
    "distaciakm = 0\n",
    "\n",
    "tierra = int(tierra)\n",
    "jupiter = int(jupiter)\n",
    "\n",
    "# Calcular la distancia entre planetas\n",
    "\n",
    "distaciakm = abs(tierra - jupiter)\n",
    "distaciami = distaciakm * 0.621\n",
    "distaciakm = str(distaciakm)\n",
    "distaciami = str(distaciami)\n",
    "\n",
    "\n",
    "print(distaciakm + \" km\")\n",
    "print(distaciami + \" km\")\n",
    "\n",
    "\n",
    "\n"
   ]
  },
  {
   "cell_type": "code",
   "execution_count": 14,
   "metadata": {},
   "outputs": [
    {
     "name": "stdout",
     "output_type": "stream",
     "text": [
      "54 km\n"
     ]
    }
   ],
   "source": [
    "# Almacenar las entradas del usuario\n",
    "#Pista: variable = input(\"¿Cuál es tu nombre?\")\n",
    "\n",
    "distanciaa = input(\"Coloca la distancia del primer planeta al sol en km\")\n",
    "distanciab = input(\"Coloca la distancia del segundo planeta al sol en km.\")\n",
    "distanciat = 0\n",
    "\n",
    "# Convierte las cadenas de ambos planetas a números enteros\n",
    "\n",
    "distanciaa = int(distanciaa)\n",
    "distanciab = int(distanciab)\n",
    "\n",
    "distanciat = abs(distanciaa - distanciab)\n",
    "distanciat = str(distanciat)\n",
    "\n",
    "print(distanciat + \" km de distacia entre los planetas\")\n",
    "\n"
   ]
  }
 ],
 "metadata": {
  "interpreter": {
   "hash": "c26de58f5a3405c2f7d3d9e8c3079ebdbaa889ecc958d680ad6fe2accdb1242e"
  },
  "kernelspec": {
   "display_name": "Python 3.10.2 64-bit (windows store)",
   "language": "python",
   "name": "python3"
  },
  "language_info": {
   "codemirror_mode": {
    "name": "ipython",
    "version": 3
   },
   "file_extension": ".py",
   "mimetype": "text/x-python",
   "name": "python",
   "nbconvert_exporter": "python",
   "pygments_lexer": "ipython3",
   "version": "3.10.2"
  },
  "orig_nbformat": 4
 },
 "nbformat": 4,
 "nbformat_minor": 2
}
