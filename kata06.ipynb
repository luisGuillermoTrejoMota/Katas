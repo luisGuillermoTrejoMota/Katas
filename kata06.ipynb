{
 "cells": [
  {
   "cell_type": "code",
   "execution_count": 67,
   "metadata": {},
   "outputs": [
    {
     "name": "stdout",
     "output_type": "stream",
     "text": [
      "Plutón es el planeta que seleccionaste \n",
      "Los planetas mas cercanos al sol son\n",
      "['Mercurio', 'Venus', 'Tierra', 'Marte', 'Júpiter', 'Saturno', 'Urano', 'Neptuno']\n",
      "Plutón es el planeta mas alejado del Sol\n"
     ]
    }
   ],
   "source": [
    "# Creamos la lista planets y la mostramos\n",
    "# Lista de planetas\n",
    "\n",
    "planetas = [\"Mercurio\", \"Venus\", \"Tierra\", \"Marte\", \"Júpiter\", \"Saturno\", \"Urano\", \"Neptuno\"]\n",
    "\n",
    "# Agregamos a plutón y mostramos el último elemento\n",
    "\n",
    "planetas.append(\"Plutón\")\n",
    "\n",
    "tplanetas = len(planetas)\n",
    "tplanetas = int(tplanetas)\n",
    "tplanetas = tplanetas\n",
    "tplanetas = int(tplanetas)\n",
    "\n",
    "# Solicitamos el nombre de un planeta *Pista:  input()*\n",
    "seleccion = input(\"Escribe el nombre de un planeta (Con mayuscula al inicio y acentos de ser necesario)\")\n",
    "\n",
    "# Busca el planeta en la lista\n",
    "\n",
    "planetaUs = planetas.index(seleccion)\n",
    "planetaUs = int(planetaUs)\n",
    "\n",
    "print(seleccion + \" es el planeta que seleccionaste \")\n",
    "\n",
    "# Muestra los planetas más cercanos al sol\n",
    "if planetaUs == 0:\n",
    "    print(seleccion + \" es el planeta mas cercano al Sol\")\n",
    "else:\n",
    "    planetaUs = planetaUs\n",
    "    planetaUs = int(planetaUs)\n",
    "    print(\"Los planetas mas cercanos al sol son\")\n",
    "    print(planetas[0:planetaUs])\n",
    "\n",
    "planetaUs = int(planetaUs)\n",
    "\n",
    "# Muestra los planetas más lejanos al sol\n",
    "\n",
    "if planetaUs == tplanetas - 1:\n",
    "    print(seleccion + \" es el planeta mas alejado del Sol\")\n",
    "\n",
    "\n",
    "else:\n",
    "    tplanetas = len(planetas) - 1\n",
    "    tplanetas = int(tplanetas)\n",
    "    planetaUs = int(planetaUs)    \n",
    "    planetaUs = planetaUs + 1\n",
    "    planetaUs = int(planetaUs)\n",
    "    print(\"Los planetas mas lejanos al sol son\")\n",
    "    print(planetas[planetaUs:])\n",
    "\n"
   ]
  }
 ],
 "metadata": {
  "interpreter": {
   "hash": "c26de58f5a3405c2f7d3d9e8c3079ebdbaa889ecc958d680ad6fe2accdb1242e"
  },
  "kernelspec": {
   "display_name": "Python 3.10.2 64-bit (windows store)",
   "language": "python",
   "name": "python3"
  },
  "language_info": {
   "codemirror_mode": {
    "name": "ipython",
    "version": 3
   },
   "file_extension": ".py",
   "mimetype": "text/x-python",
   "name": "python",
   "nbconvert_exporter": "python",
   "pygments_lexer": "ipython3",
   "version": "3.10.2"
  },
  "orig_nbformat": 4
 },
 "nbformat": 4,
 "nbformat_minor": 2
}
