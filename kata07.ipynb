{
 "cells": [
  {
   "cell_type": "code",
   "execution_count": 4,
   "metadata": {},
   "outputs": [
    {
     "name": "stdout",
     "output_type": "stream",
     "text": [
      "['edwf', 'edwf', 'sdfsdgds', 'dsfsfsd', 'werwdfs']\n",
      "edwf\n",
      "edwf\n",
      "sdfsdgds\n",
      "dsfsfsd\n",
      "werwdfs\n"
     ]
    }
   ],
   "source": [
    "# Declara dos variables\n",
    "\n",
    "new_planet = \"\"\n",
    "new_planet = input(\"Ingresa el nombre de un nuevo planeta\")\n",
    "planets = []\n",
    "planets.append(new_planet)\n",
    "\n",
    "# Escribe el ciclo while solicitado\n",
    "\n",
    "while new_planet != \"done\":\n",
    "    if new_planet:\n",
    "        planets.append(new_planet)\n",
    "    new_planet = input(\"Ingresa el nombre de un nuevo planeta\")\n",
    "\n",
    "\n",
    "# Escribe tu ciclo for para iterar en una lista de planetas\n",
    "\n",
    "for planet in planets:\n",
    "    print(planet)\n",
    "\n",
    "print(\"Son todos los planetas ingresados\")\n"
   ]
  }
 ],
 "metadata": {
  "interpreter": {
   "hash": "c26de58f5a3405c2f7d3d9e8c3079ebdbaa889ecc958d680ad6fe2accdb1242e"
  },
  "kernelspec": {
   "display_name": "Python 3.10.2 64-bit (windows store)",
   "language": "python",
   "name": "python3"
  },
  "language_info": {
   "codemirror_mode": {
    "name": "ipython",
    "version": 3
   },
   "file_extension": ".py",
   "mimetype": "text/x-python",
   "name": "python",
   "nbconvert_exporter": "python",
   "pygments_lexer": "ipython3",
   "version": "3.10.2"
  },
  "orig_nbformat": 4
 },
 "nbformat": 4,
 "nbformat_minor": 2
}
